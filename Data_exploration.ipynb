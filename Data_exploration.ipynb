{
 "cells": [
  {
   "cell_type": "code",
   "execution_count": 5,
   "metadata": {
    "ExecuteTime": {
     "end_time": "2021-02-25T18:07:53.333753Z",
     "start_time": "2021-02-25T18:07:53.330115Z"
    }
   },
   "outputs": [],
   "source": [
    "from file_management import read_file"
   ]
  },
  {
   "cell_type": "code",
   "execution_count": 1,
   "metadata": {
    "ExecuteTime": {
     "end_time": "2021-02-25T18:06:57.968799Z",
     "start_time": "2021-02-25T18:06:57.955542Z"
    }
   },
   "outputs": [
    {
     "data": {
      "text/plain": [
       "['a.txt', 'b.txt', 'c.txt', 'd.txt', 'e.txt', 'f.txt']"
      ]
     },
     "execution_count": 1,
     "metadata": {},
     "output_type": "execute_result"
    }
   ],
   "source": [
    "import os\n",
    "list_filenames = sorted(os.listdir('input'))\n",
    "list_filenames"
   ]
  },
  {
   "cell_type": "code",
   "execution_count": 2,
   "metadata": {
    "ExecuteTime": {
     "end_time": "2021-02-25T18:07:17.267905Z",
     "start_time": "2021-02-25T18:07:17.264810Z"
    }
   },
   "outputs": [],
   "source": [
    "filename = list_filenames[0]\n",
    "filepath = f'input/{filename}'"
   ]
  },
  {
   "cell_type": "code",
   "execution_count": 3,
   "metadata": {
    "ExecuteTime": {
     "end_time": "2021-02-25T18:07:20.557927Z",
     "start_time": "2021-02-25T18:07:20.548857Z"
    }
   },
   "outputs": [
    {
     "data": {
      "text/plain": [
       "(6,\n",
       " 4,\n",
       " '3',\n",
       " 2,\n",
       " 1000,\n",
       " {'rue-de-londres': 0,\n",
       "  0: 'rue-de-londres',\n",
       "  'rue-d-amsterdam': 1,\n",
       "  1: 'rue-d-amsterdam',\n",
       "  'rue-d-athenes': 2,\n",
       "  2: 'rue-d-athenes',\n",
       "  'rue-de-rome': 3,\n",
       "  3: 'rue-de-rome',\n",
       "  'rue-de-moscou': 4,\n",
       "  4: 'rue-de-moscou'},\n",
       " ['rue-d-athenes', 'rue-de-moscou', 'rue-de-londres'],\n",
       " [[0, 1, 4, 3], [2, 4, 0]])"
      ]
     },
     "execution_count": 3,
     "metadata": {},
     "output_type": "execute_result"
    }
   ],
   "source": [
    "(\n",
    "    duration,\n",
    "    nb_intersections,\n",
    "    nb_streets,\n",
    "    nb_cars,\n",
    "    bonus_point,\n",
    "    twowaydict_indexstreet_streetname,\n",
    "    list_streets,\n",
    "    list_cars\n",
    ") = "
   ]
  }
 ],
 "metadata": {
  "kernelspec": {
   "display_name": "Python 3",
   "language": "python",
   "name": "python3"
  },
  "language_info": {
   "codemirror_mode": {
    "name": "ipython",
    "version": 3
   },
   "file_extension": ".py",
   "mimetype": "text/x-python",
   "name": "python",
   "nbconvert_exporter": "python",
   "pygments_lexer": "ipython3",
   "version": "3.7.6"
  },
  "toc": {
   "base_numbering": 1,
   "nav_menu": {},
   "number_sections": true,
   "sideBar": true,
   "skip_h1_title": false,
   "title_cell": "Table of Contents",
   "title_sidebar": "Contents",
   "toc_cell": false,
   "toc_position": {},
   "toc_section_display": true,
   "toc_window_display": false
  }
 },
 "nbformat": 4,
 "nbformat_minor": 4
}
