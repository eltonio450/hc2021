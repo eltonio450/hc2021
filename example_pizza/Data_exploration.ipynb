{
 "cells": [
  {
   "cell_type": "markdown",
   "metadata": {},
   "source": [
    " in bash : `wc -l *`\n",
    " ```\n",
    "       6 a_example.in\n",
    "     501 b_little_bit_of_everything.in\n",
    "   10001 c_many_ingredients.in\n",
    "  100001 d_many_pizzas.in\n",
    "  100001 e_many_teams.in\n",
    "```"
   ]
  },
  {
   "cell_type": "code",
   "execution_count": 1,
   "metadata": {
    "ExecuteTime": {
     "end_time": "2021-02-25T16:56:53.145238Z",
     "start_time": "2021-02-25T16:56:52.772732Z"
    }
   },
   "outputs": [],
   "source": [
    "import os\n",
    "from collections import defaultdict, Counter\n",
    "import matplotlib.pyplot as plt"
   ]
  },
  {
   "cell_type": "code",
   "execution_count": 2,
   "metadata": {
    "ExecuteTime": {
     "end_time": "2021-02-25T16:56:53.973090Z",
     "start_time": "2021-02-25T16:56:53.959608Z"
    }
   },
   "outputs": [],
   "source": [
    "from file_management import read_file, write_results_in_output\n",
    "from score_computation import compute_score\n",
    "from pizza_dealer import PizzaDealer\n",
    "from team_dealer import TeamDealer\n"
   ]
  },
  {
   "cell_type": "code",
   "execution_count": 3,
   "metadata": {
    "ExecuteTime": {
     "end_time": "2021-02-25T16:56:54.365652Z",
     "start_time": "2021-02-25T16:56:54.362487Z"
    }
   },
   "outputs": [],
   "source": [
    "filenames = [\n",
    "    'a_example.in',\n",
    "    'b_little_bit_of_everything.in',\n",
    "    'c_many_ingredients.in',\n",
    "    'd_many_pizzas.in',\n",
    "    'e_many_teams.in'\n",
    "]"
   ]
  },
  {
   "cell_type": "code",
   "execution_count": null,
   "metadata": {
    "ExecuteTime": {
     "start_time": "2021-02-25T16:56:54.693Z"
    }
   },
   "outputs": [
    {
     "name": "stdout",
     "output_type": "stream",
     "text": [
      " ==== a_example.in ==== \n",
      "nb_pizzas 5, nb team 2(1) 3(2) 4(1)\n",
      "enough pizza for everyone? False\n",
      "diff nb de pizza : -7\n",
      "nb_ingredients 8\n",
      "nb pizza differentes 4\n",
      "Cannot choose from an empty sequence\n",
      "score random 64\n",
      " ==== b_little_bit_of_everything.in ==== \n",
      "nb_pizzas 500, nb team 2(65) 3(60) 4(60)\n",
      "enough pizza for everyone? False\n",
      "diff nb de pizza : -50\n",
      "nb_ingredients 19\n",
      "nb pizza differentes 223\n",
      "Cannot choose from an empty sequence\n",
      "score random 9531\n",
      " ==== c_many_ingredients.in ==== \n",
      "nb_pizzas 10000, nb team 2(504) 3(539) 4(585)\n",
      "enough pizza for everyone? True\n",
      "diff nb de pizza : 5035\n",
      "nb_ingredients 12078\n",
      "nb pizza differentes 10000\n",
      "score random 211548879\n",
      " ==== d_many_pizzas.in ==== \n",
      "nb_pizzas 100000, nb team 2(1696) 3(3661) 4(2742)\n",
      "enough pizza for everyone? True\n",
      "diff nb de pizza : 74657\n",
      "nb_ingredients 200\n",
      "nb pizza differentes 60725\n"
     ]
    }
   ],
   "source": [
    "for filename in filenames:\n",
    "    print(f\" ==== {filename} ==== \")\n",
    "    (\n",
    "        nb_pizzas, nb_team2, nb_team3, nb_team4, nb_ingredients,\n",
    "        twowaydict_ingredientnumber_ingredientname,\n",
    "        dict_set_ingredientsnumber_by_indexpizza\n",
    "    ) = read_file(os.path.join(\"input\", filename))\n",
    "    print(f\"nb_pizzas {nb_pizzas}, nb team 2({nb_team2}) 3({nb_team3}) 4({nb_team4})\")\n",
    "    print(f\"enough pizza for everyone? {nb_pizzas>= 2*nb_team2 + 3*nb_team3 + 4*nb_team4}\")\n",
    "    print(f\"diff nb de pizza : {nb_pizzas - (2*nb_team2 + 3*nb_team3 + 4*nb_team4)}\")\n",
    "    print(f\"nb_ingredients {nb_ingredients}\")\n",
    "    print(f\"nb pizza differentes\", len(\n",
    "        set(\n",
    "            [tuple(v) for v in dict_set_ingredientsnumber_by_indexpizza.values()]\n",
    "        )))\n",
    "    \n",
    "    list_indexpizza_by_tuple_ingredients = defaultdict(list)\n",
    "    for indexpizza, set_ingredientsnumber in dict_set_ingredientsnumber_by_indexpizza.items():\n",
    "        list_indexpizza_by_tuple_ingredients[tuple(set_ingredientsnumber)].append(indexpizza)\n",
    "    teamdealer = TeamDealer(nb_team2, nb_team3, nb_team4)\n",
    "    pizzadealer = PizzaDealer(nb_pizzas, list_indexpizza_by_tuple_ingredients)\n",
    "    list_results = []\n",
    "    while teamdealer.has_team() and pizzadealer.has_pizza():\n",
    "        nbpeople = teamdealer.pop_random()\n",
    "        try:\n",
    "            this_result = [pizzadealer.pop_random() for _ in range(nbpeople)]\n",
    "            list_results.append(this_result)\n",
    "        except Exception as e:\n",
    "            print(e)\n",
    "            break\n",
    "    print(\"score random\", compute_score(list_results, dict_set_ingredientsnumber_by_indexpizza))\n",
    "    write_results_in_output(list_results, os.path.join(\"output\", f\"{filename[:-3]}.out\"))"
   ]
  },
  {
   "cell_type": "code",
   "execution_count": null,
   "metadata": {},
   "outputs": [],
   "source": []
  }
 ],
 "metadata": {
  "kernelspec": {
   "display_name": "Python 3",
   "language": "python",
   "name": "python3"
  },
  "language_info": {
   "codemirror_mode": {
    "name": "ipython",
    "version": 3
   },
   "file_extension": ".py",
   "mimetype": "text/x-python",
   "name": "python",
   "nbconvert_exporter": "python",
   "pygments_lexer": "ipython3",
   "version": "3.7.6"
  },
  "toc": {
   "base_numbering": 1,
   "nav_menu": {},
   "number_sections": true,
   "sideBar": true,
   "skip_h1_title": false,
   "title_cell": "Table of Contents",
   "title_sidebar": "Contents",
   "toc_cell": false,
   "toc_position": {},
   "toc_section_display": true,
   "toc_window_display": false
  }
 },
 "nbformat": 4,
 "nbformat_minor": 4
}
